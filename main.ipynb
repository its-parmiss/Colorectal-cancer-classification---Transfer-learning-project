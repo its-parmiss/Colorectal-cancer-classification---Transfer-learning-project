{
  "nbformat": 4,
  "nbformat_minor": 0,
  "metadata": {
    "colab": {
      "provenance": []
    },
    "kernelspec": {
      "name": "python3",
      "display_name": "Python 3"
    },
    "language_info": {
      "name": "python"
    }
  },
  "cells": [
    {
      "cell_type": "code",
      "execution_count": 12,
      "metadata": {
        "colab": {
          "base_uri": "https://localhost:8080/"
        },
        "id": "LTia-5FHGAew",
        "outputId": "8d2ae27b-2829-4903-dd9d-e8d8e026c464"
      },
      "outputs": [
        {
          "output_type": "stream",
          "name": "stdout",
          "text": [
            "Drive already mounted at /content/drive; to attempt to forcibly remount, call drive.mount(\"/content/drive\", force_remount=True).\n"
          ]
        }
      ],
      "source": [
        "from google.colab import drive\n",
        "from torchvision import transforms\n",
        "from torchvision.datasets import ImageFolder\n",
        "\n",
        "# Mount your Google Drive\n",
        "drive.mount('/content/drive')\n",
        "\n",
        "base_path = '/content/drive/My Drive/Comp6321 project dataset/'\n",
        "\n",
        "transform = transforms.Compose([\n",
        "    transforms.Resize((224, 224)),  # Adjust size as needed\n",
        "    transforms.ToTensor(),\n",
        "])\n",
        "\n",
        "datasets = {}\n",
        "\n",
        "dataset_names = ['Colorectal Cancer', 'Prostate Cancer', 'Animal Faces']\n",
        "\n",
        "for dataset_name in dataset_names:\n",
        "    dataset_path = base_path + dataset_name\n",
        "    dataset = ImageFolder(root=dataset_path, transform=transform)\n",
        "    datasets[dataset_name] = dataset\n"
      ]
    },
    {
      "cell_type": "code",
      "source": [
        "\n",
        "from torch.utils.data import DataLoader\n",
        "\n",
        "d1_batch_size = 32\n",
        "d2_batch_size=32\n",
        "d3_batch_size = 32\n",
        "colorectal_dataset = DataLoader(datasets['Colorectal Cancer'], batch_size=d1_batch_size, shuffle=True)\n",
        "prostate_data_loader = DataLoader(datasets['Prostate Cancer'], batch_size=d2_batch_size, shuffle=True)\n",
        "animal_faces_dataloader = DataLoader(datasets['Prostate Cancer'], batch_size=d3_batch_size, shuffle=True)"
      ],
      "metadata": {
        "id": "GVgFLOmHaiNO"
      },
      "execution_count": 16,
      "outputs": []
    }
  ]
}